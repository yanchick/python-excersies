{
 "cells": [
  {
   "cell_type": "markdown",
   "metadata": {},
   "source": [
    "# 1. Fill the missing pieces\n",
    "Fill the `____` parts of the code below."
   ]
  },
  {
   "cell_type": "code",
   "execution_count": 1,
   "metadata": {
    "ExecuteTime": {
     "end_time": "2024-03-23T19:06:09.523561Z",
     "start_time": "2024-03-23T19:06:09.520721Z"
    }
   },
   "outputs": [],
   "source": [
    "# Let's create an empty list\n",
    "my_list = []\n",
    "\n",
    "# Let's add some values\n",
    "my_list.append(\"Python\")\n",
    "my_list.append(\"is ok\")\n",
    "my_list.append(\"sometimes\")\n",
    "\n",
    "# Let's remove 'sometimes'\n",
    "my_list.remove(\"sometimes\")\n",
    "\n",
    "# Let's change the second item\n",
    "my_list[1] = \"is neat\""
   ]
  },
  {
   "cell_type": "code",
   "execution_count": 2,
   "metadata": {
    "editable": false,
    "ExecuteTime": {
     "end_time": "2024-03-23T19:06:10.227860Z",
     "start_time": "2024-03-23T19:06:10.225506Z"
    }
   },
   "outputs": [],
   "source": [
    "# Let's verify that it's correct\n",
    "assert my_list == [\"Python\", \"is neat\"]"
   ]
  },
  {
   "cell_type": "markdown",
   "metadata": {},
   "source": [
    "# 2. Create a new list without modifiying the original one\n"
   ]
  },
  {
   "cell_type": "code",
   "execution_count": 3,
   "metadata": {
    "editable": false,
    "ExecuteTime": {
     "end_time": "2024-03-23T19:08:53.257659Z",
     "start_time": "2024-03-23T19:08:53.252276Z"
    }
   },
   "outputs": [],
   "source": [
    "original = [\"I\", \"am\", \"learning\", \"hacking\", \"in\"]"
   ]
  },
  {
   "cell_type": "code",
   "execution_count": 6,
   "metadata": {
    "ExecuteTime": {
     "end_time": "2024-03-23T19:09:09.920262Z",
     "start_time": "2024-03-23T19:09:09.917100Z"
    }
   },
   "outputs": [],
   "source": [
    "modified = original.copy()\n",
    "modified[3] = \"lists\"\n",
    "modified.append(\"Python\")"
   ]
  },
  {
   "cell_type": "code",
   "execution_count": 7,
   "metadata": {
    "editable": false,
    "ExecuteTime": {
     "end_time": "2024-03-23T19:09:10.278215Z",
     "start_time": "2024-03-23T19:09:10.276Z"
    }
   },
   "outputs": [],
   "source": [
    "assert original == [\"I\", \"am\", \"learning\", \"hacking\", \"in\"]\n",
    "assert modified == [\"I\", \"am\", \"learning\", \"lists\", \"in\", \"Python\"]"
   ]
  },
  {
   "cell_type": "markdown",
   "metadata": {},
   "source": [
    "# 3. Create a merged sorted list"
   ]
  },
  {
   "cell_type": "code",
   "execution_count": 9,
   "metadata": {
    "editable": false,
    "ExecuteTime": {
     "end_time": "2024-03-23T19:09:46.544204Z",
     "start_time": "2024-03-23T19:09:46.539711Z"
    }
   },
   "outputs": [],
   "source": [
    "list1 = [6, 12, 5]\n",
    "list2 = [6.2, 0, 14, 1]\n",
    "list3 = [0.9]"
   ]
  },
  {
   "cell_type": "code",
   "execution_count": 12,
   "metadata": {
    "ExecuteTime": {
     "end_time": "2024-03-23T19:10:01.339153Z",
     "start_time": "2024-03-23T19:10:01.335881Z"
    }
   },
   "outputs": [],
   "source": [
    "# Your implementation here\n",
    "my_list = (list1 + list2 + list3)\n",
    "my_list.sort()\n",
    "my_list.reverse()"
   ]
  },
  {
   "cell_type": "code",
   "execution_count": 13,
   "metadata": {
    "editable": false,
    "ExecuteTime": {
     "end_time": "2024-03-23T19:10:01.676579Z",
     "start_time": "2024-03-23T19:10:01.674175Z"
    }
   },
   "outputs": [
    {
     "name": "stdout",
     "output_type": "stream",
     "text": [
      "[14, 12, 6.2, 6, 5, 1, 0.9, 0]\n"
     ]
    }
   ],
   "source": [
    "print(my_list)\n",
    "assert my_list == [14, 12, 6.2, 6, 5, 1, 0.9, 0]"
   ]
  }
 ],
 "metadata": {
  "kernelspec": {
   "display_name": "Python 3",
   "language": "python",
   "name": "python3"
  },
  "language_info": {
   "codemirror_mode": {
    "name": "ipython",
    "version": 3
   },
   "file_extension": ".py",
   "mimetype": "text/x-python",
   "name": "python",
   "nbconvert_exporter": "python",
   "pygments_lexer": "ipython3",
   "version": "3.5.4"
  }
 },
 "nbformat": 4,
 "nbformat_minor": 2
}
