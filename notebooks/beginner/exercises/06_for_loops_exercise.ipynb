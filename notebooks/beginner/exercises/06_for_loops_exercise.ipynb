{
 "cells": [
  {
   "cell_type": "markdown",
   "metadata": {},
   "source": [
    "# 1. Fill the missing pieces\n",
    "Fill the `____` parts in the code below."
   ]
  },
  {
   "cell_type": "code",
   "execution_count": 14,
   "metadata": {
    "ExecuteTime": {
     "end_time": "2024-03-23T19:27:10.852120Z",
     "start_time": "2024-03-23T19:27:10.848337Z"
    }
   },
   "outputs": [],
   "source": [
    "words = [\"PYTHON\", \"JOHN\", \"chEEse\", \"hAm\", \"DOE\", \"123\"]\n",
    "upper_case_words = []\n",
    "\n",
    "for word in words:\n",
    "    if word.isupper():\n",
    "        upper_case_words.append(word)"
   ]
  },
  {
   "cell_type": "code",
   "execution_count": 15,
   "metadata": {
    "editable": false,
    "ExecuteTime": {
     "end_time": "2024-03-23T19:27:10.858265Z",
     "start_time": "2024-03-23T19:27:10.856614Z"
    }
   },
   "outputs": [],
   "source": [
    "assert upper_case_words == [\"PYTHON\", \"JOHN\", \"DOE\"]"
   ]
  },
  {
   "cell_type": "markdown",
   "metadata": {},
   "source": [
    "# 2. Calculate the sum of dict values\n",
    "Calculate the sum of the values in `magic_dict` by taking only into account numeric values (hint: see [isinstance](https://docs.python.org/3/library/functions.html#isinstance)). "
   ]
  },
  {
   "cell_type": "code",
   "execution_count": 16,
   "metadata": {
    "editable": false,
    "ExecuteTime": {
     "end_time": "2024-03-23T19:27:10.867434Z",
     "start_time": "2024-03-23T19:27:10.865358Z"
    }
   },
   "outputs": [],
   "source": [
    "magic_dict = dict(val1=44, val2=\"secret value\", val3=55.0, val4=1)"
   ]
  },
  {
   "cell_type": "code",
   "execution_count": 17,
   "metadata": {
    "ExecuteTime": {
     "end_time": "2024-03-23T19:27:10.869992Z",
     "start_time": "2024-03-23T19:27:10.868462Z"
    }
   },
   "outputs": [],
   "source": [
    "# Your implementation\n",
    "sum_of_values = 0\n",
    "\n",
    "for value in magic_dict.values():\n",
    "    if isinstance(value, (int, float)):\n",
    "        sum_of_values += value"
   ]
  },
  {
   "cell_type": "code",
   "execution_count": 18,
   "metadata": {
    "editable": false,
    "ExecuteTime": {
     "end_time": "2024-03-23T19:27:10.872134Z",
     "start_time": "2024-03-23T19:27:10.870620Z"
    }
   },
   "outputs": [],
   "source": [
    "assert sum_of_values == 100"
   ]
  },
  {
   "cell_type": "markdown",
   "metadata": {},
   "source": [
    "# 3. Create a list of strings based on a list of numbers\n",
    "The rules:\n",
    "* If the number is a multiple of five and odd, the string should be `'five odd'`\n",
    "* If the number is a multiple of five and even, the string should be `'five even'`\n",
    "* If the number is odd, the string is `'odd'`\n",
    "* If the number is even, the string is `'even'`"
   ]
  },
  {
   "cell_type": "code",
   "execution_count": 19,
   "metadata": {
    "editable": false,
    "ExecuteTime": {
     "end_time": "2024-03-23T19:27:10.875068Z",
     "start_time": "2024-03-23T19:27:10.873557Z"
    }
   },
   "outputs": [],
   "source": [
    "numbers = [1, 3, 4, 6, 81, 80, 100, 95]"
   ]
  },
  {
   "cell_type": "code",
   "execution_count": 20,
   "metadata": {
    "ExecuteTime": {
     "end_time": "2024-03-23T19:27:10.878318Z",
     "start_time": "2024-03-23T19:27:10.875940Z"
    }
   },
   "outputs": [],
   "source": [
    "# Your implementation\n",
    "my_list = []\n",
    "for number in numbers:\n",
    "    if number % 2 == 0:\n",
    "        value = \"even\"\n",
    "    else:\n",
    "        value = \"odd\"\n",
    "        \n",
    "    if number % 5 == 0:\n",
    "        value = \"five \" + value\n",
    "    my_list.append(value)"
   ]
  },
  {
   "cell_type": "code",
   "execution_count": 21,
   "metadata": {
    "editable": false,
    "ExecuteTime": {
     "end_time": "2024-03-23T19:27:10.880910Z",
     "start_time": "2024-03-23T19:27:10.879220Z"
    }
   },
   "outputs": [],
   "source": [
    "assert my_list == [\n",
    "    \"odd\",\n",
    "    \"odd\",\n",
    "    \"even\",\n",
    "    \"even\",\n",
    "    \"odd\",\n",
    "    \"five even\",\n",
    "    \"five even\",\n",
    "    \"five odd\",\n",
    "]"
   ]
  }
 ],
 "metadata": {
  "kernelspec": {
   "display_name": "Python 3 (ipykernel)",
   "language": "python",
   "name": "python3"
  },
  "language_info": {
   "codemirror_mode": {
    "name": "ipython",
    "version": 3
   },
   "file_extension": ".py",
   "mimetype": "text/x-python",
   "name": "python",
   "nbconvert_exporter": "python",
   "pygments_lexer": "ipython3",
   "version": "3.11.0"
  }
 },
 "nbformat": 4,
 "nbformat_minor": 2
}
